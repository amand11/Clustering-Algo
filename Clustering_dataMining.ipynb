{
  "nbformat": 4,
  "nbformat_minor": 0,
  "metadata": {
    "colab": {
      "name": "AMAN_DHAWAN_Lab2_Data_Mining_2021.ipynb",
      "provenance": [],
      "collapsed_sections": []
    },
    "kernelspec": {
      "name": "python3",
      "display_name": "Python 3"
    },
    "language_info": {
      "name": "python"
    }
  },
  "cells": [
    {
      "cell_type": "markdown",
      "metadata": {
        "id": "loqU5AKXi_Qv"
      },
      "source": [
        "# Lab 2 : DB Scan, and Kmeans\n",
        "\n",
        "---\n",
        "\n",
        "\n",
        "Total Points: **45**\n",
        "\n",
        "Tentative Weightage : **10%**\n",
        "\n",
        "Submission Deadline :  **$31^{st}$ October 2021 , 23:59 hours**\n",
        "\n",
        "---\n",
        "\n",
        "\n",
        "\n",
        "General Instructions:\n",
        "\n",
        "---\n",
        "\n",
        "\n",
        "\n",
        "1. You have to do this lab individually\n",
        "2. You may use **seaborn, matplotlib, pandas, numpy, csv**\n",
        "3. All the code should be submitted in the form of a single Jupyter notebook itself.\n",
        "4. Points for each sub-section are mentioned in the appropriate question.\n",
        "5. You can use Google colab to run a jupyter notebook (https://colab.research.google.com/) How to load data in Google Colab ?(https://towardsdatascience.com/3-ways-to-load-csv-files-into-colab-7c14fcbdcb92) (https://www.marktechpost.com/2019/06/07/how-to-connect-google-colab-with-google-drive/). You can also run it in your local anaconda jupyter notebook.\n",
        "6. The lab must be submitted on Google classroom. The code as well as the accompanying observations should be made part of the python notebook.\n",
        "7. **Code Readability** is very important. Modularize your code by making use of classes, functions that can be flexibly reused wherever necessary. Also use self explanatory variable names and add comments to describe your approach wherever necessary. You may add additional code or text blocks as necessary.\n",
        "8. You are expected to submit your **observations** (preferably in a text block) and not just an error free code.\n",
        "9. Students are expected to follow the **honor code** of the class.\n",
        "10. You can use any programming language of your choice. In case you prefer any other language than python then you can submit all the code and related files along with detailed pdf report in a zip format on the classroom. In such cases  suitable input format for each of the question and a readme file should precisely tell how to compile and run your program. Give the exact commands with respect to the datasets provided. \n",
        "11. The deadline is strict and any assignment submitted later will not\n",
        "be consider for evaluation unless you take prior permission (at least 4 days before the submission deadline).\n",
        "12. The marks will be given on the basis of quality of code, use of innovative data structures, scalability, correctness, and completeness of the reported observation.\n",
        "13. In case of any queries regarding Lab 2, please mail the TAs (emails are provided on the google classroom).\n",
        "\n",
        "**Best Wishes**\n"
      ]
    },
    {
      "cell_type": "markdown",
      "metadata": {
        "id": "6HVGq2yWmgKU"
      },
      "source": [
        "#1. Adult Dataset\n",
        "\n",
        "###About the Dataset\n",
        "The data set contains information of 32562 individuals from the 1994\n",
        "census, of which 21790 are males and 10771 are females. We choose six attributes as feature set: age, fnlwgt, education_num, capital_gain, hours_per_week, sex. You can read more about the dataset [here](https://archive.ics.uci.edu/ml/datasets/adult) \n",
        "\n",
        "\n",
        "\n",
        "#2. Spiral Dataset\n",
        "\n",
        "###About the Dataset\n",
        "The dataset is synthetically generated contains 5000 datapoints. Each datapoint contains a feature vector of size three denoting x,y coordinate in 2D plane and the last feature denoting the binary class. \n",
        "\n",
        "\n",
        "\n",
        "---\n",
        "\n",
        "**NOTE**: Please use the provided dataset files along with this notebook. The adult dataset is scaled and normalised version of complete dataset available at UCI repository. \n",
        "\n",
        "---"
      ]
    },
    {
      "cell_type": "code",
      "metadata": {
        "id": "9ohM-1XDtGPM"
      },
      "source": [
        "# Perform the necessary imports here\n",
        "\n",
        "import numpy as np\n",
        "import pandas as pd\n",
        "import matplotlib.pyplot as plt\n",
        "import csv"
      ],
      "execution_count": null,
      "outputs": []
    },
    {
      "cell_type": "code",
      "metadata": {
        "id": "RieW4K3xtPr5"
      },
      "source": [
        "# To access files stored in Google Drive, following block import is used\n",
        "# If using on a local system, please comment the lines below in this code block\n",
        "\n",
        "# from google.colab import drive\n",
        "# drive.mount('/content/MyDrive', force_remount = True)"
      ],
      "execution_count": null,
      "outputs": []
    },
    {
      "cell_type": "markdown",
      "metadata": {
        "id": "_IZ52annrOwn"
      },
      "source": [
        "**TASK 1**:                                                      **(5 Marks)**\n",
        "\n",
        "1. Download and load the dataset files into pandas dataframe. You can refer to the [pandas documentation](https://pandas.pydata.org/pandas-docs/stable/reference/io.html). (**1 point**) \n",
        "2. Report the total number of samples and the total number of columns in the dataset. (**1 point**)\n",
        "3. Evaluate the dataset and drop data which hash 'NA' values. Now report the total number of samples and the total number of columns in the dataset. (**1 point**)\n",
        "4. Plot a bar chart showing the number of samples present for different class. In Adult dataset consider 'sex' to be class labels and in Spiral dataset consider the last binary feature to be class label. (**1 point**)\n",
        "5. Plot the spiral dataset using matplotlib to check if the datset is spiral or not. Use only first two columns denoting x,y coordinates in 2D plane. (**1 point**)"
      ]
    },
    {
      "cell_type": "code",
      "metadata": {
        "id": "TBJ1ELPii60C"
      },
      "source": [
        "# Load the data from csv file into a data frame (1 point)\n",
        "# Please insert your code here\n",
        "\n",
        "adult_data = pd.read_csv(\"adult.csv\")\n",
        "spiral_data = pd.read_csv(\"spiral.csv\")\n"
      ],
      "execution_count": null,
      "outputs": []
    },
    {
      "cell_type": "code",
      "metadata": {
        "id": "vHEmt7MHtU5A",
        "colab": {
          "base_uri": "https://localhost:8080/"
        },
        "outputId": "159c817b-ef9e-4222-e652-4d1aa870c0b3"
      },
      "source": [
        "# Print the number of instances and attributes in the loaded data frame (1 point)\n",
        "# Please insert your code here\n",
        "\n",
        "adult_shape = adult_data.shape\n",
        "spiral_shape = spiral_data.shape\n",
        "print(\"Number of Instances in Adult Dataset is \", adult_shape[0], \"and attributes \",adult_shape[1])\n",
        "print(\"Number of Instances in Spiral Dataset is \", spiral_shape[0], \"and attributes \",spiral_shape[1])\n"
      ],
      "execution_count": null,
      "outputs": [
        {
          "output_type": "stream",
          "name": "stdout",
          "text": [
            "Number of Instances in Adult Dataset is  32561 and attributes  6\n",
            "Number of Instances in Spiral Dataset is  5000 and attributes  3\n"
          ]
        }
      ]
    },
    {
      "cell_type": "code",
      "metadata": {
        "id": "nkmGlPrWtVWS"
      },
      "source": [
        "# Drop the columns with NaN values (0.5 points)\n",
        "# Please insert your code here\n",
        "\n",
        "adult_data = adult_data.dropna(axis=0)\n",
        "spiral_data = spiral_data.dropna(axis=0)"
      ],
      "execution_count": null,
      "outputs": []
    },
    {
      "cell_type": "code",
      "metadata": {
        "id": "UWk__RgItWku",
        "colab": {
          "base_uri": "https://localhost:8080/"
        },
        "outputId": "0ab1ab66-21c6-44c1-be57-fd29c7775a14"
      },
      "source": [
        "# Print the number of instances and attributes in the loaded data frame after removal of NaN columns (0.5 points)\n",
        "# Please insert your code here\n",
        "\n",
        "adult_shape = adult_data.shape\n",
        "spiral_shape = spiral_data.shape\n",
        "print(\"Number of Instances in Adult Dataset is \", adult_shape[0], \"and attributes \",adult_shape[1])\n",
        "print(\"Number of Instances in Spiral Dataset is \", spiral_shape[0], \"and attributes \",spiral_shape[1])"
      ],
      "execution_count": null,
      "outputs": [
        {
          "output_type": "stream",
          "name": "stdout",
          "text": [
            "Number of Instances in Adult Dataset is  32561 and attributes  6\n",
            "Number of Instances in Spiral Dataset is  5000 and attributes  3\n"
          ]
        }
      ]
    },
    {
      "cell_type": "code",
      "metadata": {
        "id": "6yJSaPMytVut",
        "colab": {
          "base_uri": "https://localhost:8080/",
          "height": 363
        },
        "outputId": "5d81689d-280e-4ed2-fb40-b7d89136898b"
      },
      "source": [
        "# Plot a bar chart showing the number of samples for different classes in both dataset (1 point)\n",
        "# Please insert your code here\n",
        "\n",
        "\n",
        "ax = adult_data['gender'].value_counts().plot(kind='bar',\n",
        "                                    figsize=(8,5),\n",
        "                                    title=\"Bar Chart\")\n",
        "ax.set_xlabel(\"Gender\")\n",
        "ax.set_ylabel(\"Frequency\")"
      ],
      "execution_count": null,
      "outputs": [
        {
          "output_type": "execute_result",
          "data": {
            "text/plain": [
              "Text(0, 0.5, 'Frequency')"
            ]
          },
          "metadata": {},
          "execution_count": 69
        },
        {
          "output_type": "display_data",
          "data": {
            "image/png": "[encoded data removed]",
            "text/plain": [
              "<Figure size 576x360 with 1 Axes>"
            ]
          },
          "metadata": {
            "needs_background": "light"
          }
        }
      ]
    },
    {
      "cell_type": "code",
      "metadata": {
        "colab": {
          "base_uri": "https://localhost:8080/",
          "height": 363
        },
        "id": "eN-KVlp0OXfm",
        "outputId": "cf579747-9785-449a-f135-06590db8de78"
      },
      "source": [
        "ax = spiral_data['class'].value_counts().plot(kind='bar',\n",
        "                                    figsize=(8,5),\n",
        "                                    title=\"Bar Chart\")\n",
        "ax.set_xlabel(\"class\")\n",
        "ax.set_ylabel(\"Frequency\")"
      ],
      "execution_count": null,
      "outputs": [
        {
          "output_type": "execute_result",
          "data": {
            "text/plain": [
              "Text(0, 0.5, 'Frequency')"
            ]
          },
          "metadata": {},
          "execution_count": 68
        },
        {
          "output_type": "display_data",
          "data": {
            "image/png": "[encoded data removed]",
            "text/plain": [
              "<Figure size 576x360 with 1 Axes>"
            ]
          },
          "metadata": {
            "needs_background": "light"
          }
        }
      ]
    },
    {
      "cell_type": "code",
      "metadata": {
        "id": "NotYxAdmtp8G",
        "colab": {
          "base_uri": "https://localhost:8080/",
          "height": 275
        },
        "outputId": "1a090ef9-e96c-44d6-ba00-37becf383fae"
      },
      "source": [
        "# Plot a scatter plot for spiral dataset (1 point)\n",
        "# Please insert your code here\n",
        "\n",
        "spiral_data.plot.scatter('x', 'y', c='class', colormap='viridis')\n"
      ],
      "execution_count": null,
      "outputs": [
        {
          "output_type": "execute_result",
          "data": {
            "text/plain": [
              "<matplotlib.axes._subplots.AxesSubplot at 0x7ff6621152d0>"
            ]
          },
          "metadata": {},
          "execution_count": 14
        },
        {
          "output_type": "display_data",
          "data": {
            "image/png": "[encoded data removed]",
            "text/plain": [
              "<Figure size 432x288 with 2 Axes>"
            ]
          },
          "metadata": {
            "needs_background": "light"
          }
        }
      ]
    },
    {
      "cell_type": "code",
      "metadata": {
        "colab": {
          "base_uri": "https://localhost:8080/"
        },
        "id": "uFwRuxmhF6vD",
        "outputId": "9cca5d97-613e-4d87-c8bd-84012797ee24"
      },
      "source": [
        "spiral_data = spiral_data.iloc[:,0:2]\n",
        "print(spiral_data)"
      ],
      "execution_count": null,
      "outputs": [
        {
          "output_type": "stream",
          "name": "stdout",
          "text": [
            "            x         y\n",
            "0     4.41933 -4.364950\n",
            "1    -1.77464 -6.363290\n",
            "2    -7.87681 -5.552910\n",
            "3    -7.67895 -0.044552\n",
            "4    -8.78107 -3.442720\n",
            "...       ...       ...\n",
            "4995  5.84197 -1.213820\n",
            "4996  2.46677  0.242835\n",
            "4997 -3.58882  0.462759\n",
            "4998 -5.82406  0.864777\n",
            "4999  1.77199  5.381430\n",
            "\n",
            "[5000 rows x 2 columns]\n"
          ]
        }
      ]
    },
    {
      "cell_type": "code",
      "metadata": {
        "colab": {
          "base_uri": "https://localhost:8080/"
        },
        "id": "OMrNE3b-IDwd",
        "outputId": "e1d00242-a715-48fd-91d0-a9c922952536"
      },
      "source": [
        "gender_data = adult_data.iloc[:,-1]\n",
        "adult_data = adult_data\n",
        "print(adult_data)"
      ],
      "execution_count": null,
      "outputs": [
        {
          "output_type": "stream",
          "name": "stdout",
          "text": [
            "            age    fnlwgt  education_num  capital_gain  hours_per_week  gender\n",
            "0      0.019622 -0.022667      -0.680470      0.725976        0.094976       0\n",
            "1      0.296610 -0.787368      -0.357412      0.402068       -0.051703       0\n",
            "2     -0.083487 -0.069366       0.479827     -0.822414       -0.285691       0\n",
            "3      0.636832 -0.021345       0.256530     -0.721425       -0.087912       0\n",
            "4     -0.393080 -0.017952       0.713519      0.574969       -0.073938       1\n",
            "...         ...       ...            ...           ...             ...     ...\n",
            "32556 -0.642387 -0.149353       0.484008      0.564430       -0.110399       1\n",
            "32557  0.183154 -0.062405      -0.590824     -0.739884       -0.257021       0\n",
            "32558  0.927796 -0.023090      -0.233823     -0.273761       -0.095099       1\n",
            "32559 -0.577725 -0.786633       0.052733     -0.199630       -0.069348       0\n",
            "32560  0.416587 -0.015003       0.393786     -0.177885        0.799700       1\n",
            "\n",
            "[32561 rows x 6 columns]\n",
            "            age    fnlwgt  education_num  capital_gain  hours_per_week  gender\n",
            "0      0.019622 -0.022667      -0.680470      0.725976        0.094976       0\n",
            "1      0.296610 -0.787368      -0.357412      0.402068       -0.051703       0\n",
            "2     -0.083487 -0.069366       0.479827     -0.822414       -0.285691       0\n",
            "3      0.636832 -0.021345       0.256530     -0.721425       -0.087912       0\n",
            "4     -0.393080 -0.017952       0.713519      0.574969       -0.073938       1\n",
            "...         ...       ...            ...           ...             ...     ...\n",
            "32556 -0.642387 -0.149353       0.484008      0.564430       -0.110399       1\n",
            "32557  0.183154 -0.062405      -0.590824     -0.739884       -0.257021       0\n",
            "32558  0.927796 -0.023090      -0.233823     -0.273761       -0.095099       1\n",
            "32559 -0.577725 -0.786633       0.052733     -0.199630       -0.069348       0\n",
            "32560  0.416587 -0.015003       0.393786     -0.177885        0.799700       1\n",
            "\n",
            "[32561 rows x 6 columns]\n"
          ]
        }
      ]
    },
    {
      "cell_type": "markdown",
      "metadata": {
        "id": "UR2kPDV_t7J1"
      },
      "source": [
        "### Comments on Task 1\n",
        "\n",
        "---\n",
        "Number of Instances in Adult Dataset is  32561 and attributes  6\n",
        "Number of Instances in Spiral Dataset is  5000 and attributes  3\n",
        "\n",
        "Dataset 1: Spiral Dataset\n",
        "* Adult dataset has more number of points and has more attributes than spiral dataset.\n",
        "* In adult dataset, gender is the main class\n",
        "* Both the dataset doesnt have any NaN value.\n",
        "* Spiral dataset in plot looks like elliptical.\n",
        "* The two class of spiral dataset are like concurent ellipses. one from centre to radius1 and the second one from radius 1 to radius 2."
      ]
    },
    {
      "cell_type": "markdown",
      "metadata": {
        "id": "rp5DqNjn2Exp"
      },
      "source": [
        "---\n",
        "**End of Task 1**\n",
        "\n",
        "\n",
        "---\n",
        "\n"
      ]
    },
    {
      "cell_type": "markdown",
      "metadata": {
        "id": "rwKWsEmRuCgl"
      },
      "source": [
        "**TASK 2: DBSCAN**  \n",
        "                                                     **(6+2+2=10 Marks)**\n",
        "1. Implement the clustering algorithm DBSCAN on both the datasets. \n",
        "2. Compare the two datasets in terms of sum of the squared error and time taken on both datasets. \n",
        "3. Plot the obtained clusters for number of cluster ($k$=2).\n",
        "3. Compare the performance of algorithm on the given datasets with different $k$ values and prepare a detailed observation in the suitable comment box.\n",
        "4. Which value of K that is best suited based on the sum of squared error metric. Write your general observation and reason for the same. [The answer will be evaluated based on your observations and not any fixed pre-defined value]\n",
        "\n",
        "**NOTE:<br> 1. Take different $k$ values as 2,5,10,20 and report your obervation.<br> 2. Dont include the sex feature and class label feature in adult and spiral dataset respectively for this task. Thus use 5 features in adult and 2 features in spiral dataset.**\n"
      ]
    },
    {
      "cell_type": "markdown",
      "metadata": {
        "id": "XKoSJZSfypNB"
      },
      "source": [
        "### Implementation of Task 2 on each dataset\n",
        "##### **(3+3=6 Marks)**"
      ]
    },
    {
      "cell_type": "code",
      "metadata": {
        "id": "fF9udrGkx-j8"
      },
      "source": [
        "#Implement the DBSCAN on both datasets   6 points                      \n",
        "# Please insert your code here\n",
        "\n",
        "\n",
        "import numpy as np\n",
        "import math\n",
        "\n",
        "\n",
        "\n",
        "class dbscan:\n",
        "  minpts=0\n",
        "  epsilion=0\n",
        "  data = np.array([])\n",
        "  output = np.array([])\n",
        "  cluster_id = 1\n",
        "\n",
        "  def dist(self, x,y):\n",
        "    sub = x-y\n",
        "    ans=int(0)\n",
        "    for i in range(len(sub)):\n",
        "      ans=ans+sub[i]*sub[i]\n",
        "    ans = math.sqrt(ans) \n",
        "    return ans\n",
        "\n",
        "  def neighbor_points(self, pointId):\n",
        "    points = []\n",
        "    len_of_data = len(self.data)\n",
        "    for i in range(len_of_data):\n",
        "        if not self.dist(self.data[i], self.data[pointId]) >= self.epsilion:\n",
        "            points.append(i)\n",
        "    rt_pts = np.asarray(points)\n",
        "    return rt_pts\n",
        "\n",
        "\n",
        "  def create_cluster(self, resCluster, pointId, cluster_id,):\n",
        "    points = self.neighbor_points(pointId)\n",
        "    points = points.tolist()\n",
        "    # q = queue.Queue() int\n",
        "    q=[]\n",
        "\n",
        "    if len(points) < self.minpts:\n",
        "        resCluster[pointId] = 0\n",
        "        return False\n",
        "    else:\n",
        "        resCluster[pointId] = cluster_id\n",
        "    for point in points:\n",
        "        if resCluster[point] == -1:\n",
        "            q.append(point)\n",
        "            resCluster[point] = cluster_id\n",
        "\n",
        "    while len(q)>0:\n",
        "        neighbors = self.neighbor_points(q[0])\n",
        "        q.pop(0)\n",
        "        if len(neighbors) >= self.minpts:                      \n",
        "            for i in neighbors:\n",
        "                if resCluster[i] == -1:\n",
        "                    q.append(i)\n",
        "                    resCluster[i] = cluster_id\n",
        "                elif resCluster[i] == 0:\n",
        "                    resCluster[i] = cluster_id\n",
        "    return True\n",
        "\n",
        "\n",
        "\n",
        "\n",
        "  def calculate_sse(self):\n",
        "    assignedCluster = {x:[] for x in range(self.cluster_id)}\n",
        "\n",
        "    for i in range(len(self.output)):\n",
        "      if self.output[i]!=0:\n",
        "        assignedCluster[self.output[i]].append(i)\n",
        "    sse = 0\n",
        "\n",
        "    for index in assignedCluster:\n",
        "        clust_tp = assignedCluster[index]\n",
        "        if len(clust_tp)==0:\n",
        "          continue\n",
        "        dimension = len(self.data[clust_tp[0]])\n",
        "        temp_sum = [0]*dimension\n",
        "        cluster_tp_len = len(clust_tp)\n",
        "        for pnt in clust_tp:\n",
        "            for j in range(dimension):\n",
        "                temp_sum[j] += self.data[pnt][j]\n",
        "        \n",
        "        for j in range(dimension):\n",
        "            temp_sum[j]=temp_sum[j]/cluster_tp_len\n",
        "        \n",
        "        for pnt in clust_tp:\n",
        "            diff = 0\n",
        "            for j in range(dimension):\n",
        "                diff += (temp_sum[j] - self.data[pnt][j])\n",
        "            \n",
        "            sse += diff**2\n",
        "        \n",
        "    return sse\n",
        "\n",
        "\n",
        "  def __init__(self, data, epsilion, minpts):\n",
        "    self.epsilion=epsilion\n",
        "    self.minpts=minpts\n",
        "    self.data=data\n",
        "    cluster_id = 1\n",
        "    nPoints = len(self.data)\n",
        "    resCluster = [-1] * nPoints\n",
        "    for pointId in range(nPoints):\n",
        "        if resCluster[pointId] == -1:\n",
        "            if self.create_cluster(resCluster, pointId, cluster_id):\n",
        "                cluster_id+=1\n",
        "\n",
        "    self.output = np.asarray(resCluster)\n",
        "    self.cluster_id = cluster_id\n",
        "    return\n",
        "  \n",
        "\n",
        "\n",
        "\n",
        "# \"\"\"\n"
      ],
      "execution_count": null,
      "outputs": []
    },
    {
      "cell_type": "markdown",
      "metadata": {
        "id": "RvnjvQQKzLVj"
      },
      "source": [
        "### Plot for Task 2 on both datasets\n",
        "##### **(1+1=2 Marks)**"
      ]
    },
    {
      "cell_type": "code",
      "metadata": {
        "id": "Hm9j5F68znAb",
        "colab": {
          "base_uri": "https://localhost:8080/"
        },
        "outputId": "455bce12-f6b8-4b17-9d6f-de530ec4e771"
      },
      "source": [
        "#Plot for k=2 clusters obtained clusters on both dataset   2 points                      \n",
        "# Please insert your code here\n",
        "\n",
        "eps = [0.2, 0.4, 0.5, 0.6,]\n",
        "mnpt = [5, 10, 20, 30]\n",
        "\n",
        "arr = spiral_data.to_numpy()\n",
        "sse_eps = []\n",
        "sse_mnpt = []\n",
        "for ep in eps:\n",
        "  out = dbscan(arr, ep, 10)\n",
        "  sse_eps.append(out.calculate_sse())\n",
        "  print(\"SSE for epsilion value =\",ep, \"is \", out.calculate_sse())\n",
        "\n",
        "for mnp in mnpt:\n",
        "  out = dbscan(arr, 0.4, mnp)\n",
        "  sse_mnpt.append(out.calculate_sse())\n",
        "  print(\"SSE for Minpts value =\",mnp, \"is \", out.calculate_sse())\n",
        "\n"
      ],
      "execution_count": null,
      "outputs": [
        {
          "output_type": "stream",
          "name": "stdout",
          "text": [
            "SSE for epsilion value = 0.2 is  3.3510165421238503\n",
            "SSE for epsilion value = 0.4 is  64394.3124416853\n",
            "SSE for epsilion value = 0.5 is  64892.437285740285\n",
            "SSE for epsilion value = 0.6 is  66578.15107459176\n",
            "SSE for Minpts value = 5 is  65353.990894713796\n",
            "SSE for Minpts value = 10 is  64394.3124416853\n",
            "SSE for Minpts value = 20 is  642.1288567166065\n",
            "SSE for Minpts value = 30 is  1.8686015251714283\n"
          ]
        }
      ]
    },
    {
      "cell_type": "code",
      "metadata": {
        "colab": {
          "base_uri": "https://localhost:8080/",
          "height": 295
        },
        "id": "mZnw5fxHVRTg",
        "outputId": "4757c4ce-1967-4e5c-e91c-e1ff1fca5084"
      },
      "source": [
        "plt.plot(eps, sse_eps)\n",
        "plt.xlabel(\"Epsilion Value\")\n",
        "plt.ylabel(\"SSE \")\n",
        "plt.title(\"SSE vs Epsilion value comparision\")\n",
        "plt.show()"
      ],
      "execution_count": null,
      "outputs": [
        {
          "output_type": "display_data",
          "data": {
            "image/png": "[encoded data removed]",
            "text/plain": [
              "<Figure size 432x288 with 1 Axes>"
            ]
          },
          "metadata": {
            "needs_background": "light"
          }
        }
      ]
    },
    {
      "cell_type": "code",
      "metadata": {
        "id": "JU75aDR5av-R",
        "colab": {
          "base_uri": "https://localhost:8080/",
          "height": 295
        },
        "outputId": "82b3584d-765c-4a66-d650-a339a2812873"
      },
      "source": [
        "plt.plot(mnpt, sse_mnpt)\n",
        "plt.xlabel(\"Min Points Value\")\n",
        "plt.ylabel(\"SSE \")\n",
        "plt.title(\"SSE vs Min Points value comparision\")\n",
        "plt.show()"
      ],
      "execution_count": null,
      "outputs": [
        {
          "output_type": "display_data",
          "data": {
            "image/png": "[encoded data removed]",
            "text/plain": [
              "<Figure size 432x288 with 1 Axes>"
            ]
          },
          "metadata": {
            "needs_background": "light"
          }
        }
      ]
    },
    {
      "cell_type": "code",
      "metadata": {
        "colab": {
          "base_uri": "https://localhost:8080/"
        },
        "id": "ZBGnf9cqYcMm",
        "outputId": "981f1f69-2964-492e-8a6a-d153f292b9df"
      },
      "source": [
        "import time\n",
        "start = time.time()\n",
        "\n",
        "arr = adult_data.iloc[:,:-1].to_numpy()\n",
        "out = dbscan(arr, 0.1, 10)\n",
        "end = time.time()\n",
        "print(\"Time Taken by adult dataset is \", end-start)\n",
        "\n",
        "\n",
        "start = time.time()\n",
        "arr = spiral_data.to_numpy()\n",
        "out = dbscan(arr, 0.4, 10)\n",
        "out.calculate_sse()\n",
        "end = time.time()\n",
        "print(\"Time Taken by Spiral dataset is \", end-start)"
      ],
      "execution_count": null,
      "outputs": [
        {
          "output_type": "stream",
          "name": "stdout",
          "text": [
            "Time Taken by adult dataset is  5994.034352064133\n",
            "Time Taken by Spiral dataset is  114.95545363426208\n"
          ]
        }
      ]
    },
    {
      "cell_type": "markdown",
      "metadata": {
        "id": "8GR6f42_NL26"
      },
      "source": [
        ""
      ]
    },
    {
      "cell_type": "code",
      "metadata": {
        "colab": {
          "base_uri": "https://localhost:8080/",
          "height": 265
        },
        "id": "pBlKG8hcE-x3",
        "outputId": "e5bd6136-41db-4758-a130-4d5cddb33c8d"
      },
      "source": [
        "colors = ['purple', 'blue', 'black', 'green','orange', 'brown', 'yellow', 'red',]\n",
        "arr = spiral_data.to_numpy()\n",
        "out = dbscan(arr, 0.4, 12)\n",
        "number_of_clust = out.cluster_id\n",
        "clusters = out.output\n",
        "\n",
        "for i in range(number_of_clust):\n",
        "    color = colors[i % 8]\n",
        "    x1 = []\n",
        "    y1 = []\n",
        "    for j in range(len(arr)):\n",
        "        if clusters[j] == i:\n",
        "            x1.append(arr[j][0])\n",
        "            y1.append(arr[j][1])\n",
        "    plt.scatter(x1, y1, c=color, alpha=1, marker='+')"
      ],
      "execution_count": null,
      "outputs": [
        {
          "output_type": "display_data",
          "data": {
            "image/png": "[encoded data removed]",
            "text/plain": [
              "<Figure size 432x288 with 1 Axes>"
            ]
          },
          "metadata": {
            "needs_background": "light"
          }
        }
      ]
    },
    {
      "cell_type": "markdown",
      "metadata": {
        "id": "Z6ut064PyTiD"
      },
      "source": [
        "### Comments on Task 2          \n",
        "##### **(2 Marks)**\n",
        "\n",
        "---\n",
        "\n",
        "* As Epsilion increases, Number of core points increases.\n",
        "* As Minpts decreases as number of core point increases.\n",
        "* Bases on SSE vs parameter, we can choose optimal value of minpts and k. \n",
        "\n",
        "For Spiral Dataset:  best value as per above graph seems to be \n",
        "Epsilon = 0.4 and Minpts = 12 as these give more sse. \n",
        "\n",
        "\n",
        "It took enormous time to cluster Adult dataset 5994 seconds while it just took 114 second in Spiral dataset.\n",
        "\n",
        "Time taken by dbscan is proportional to points(and number of attribs) in dataset.\n"
      ]
    },
    {
      "cell_type": "markdown",
      "metadata": {
        "id": "xDMVudPp1eui"
      },
      "source": [
        "---\n",
        "**End of Task 2**\n",
        "\n",
        "\n",
        "---\n",
        "\n"
      ]
    },
    {
      "cell_type": "markdown",
      "metadata": {
        "id": "3_lv9UU94H3C"
      },
      "source": [
        "## A) **$k$-means Clustering**\n",
        "\n",
        "$k$-means is very well studied problem in the domain of unsupervised machine learning. It is also sometimes called Vanilla $k$-means or standard $k$-means algorithm. The goal of algorithm is to select $k$ centers and obtain the partioning of the dataset X such that the datapoints are nearest to each center they are assigned. The objective cost of the final clustering obtained is given by \n",
        "$$L_p(X, C, \\phi) = \\left(\\sum_{x \\in  X }\\sum_{j \\in [k] } \\mathbb{I}(\\phi(x) =j)d(x,c_j)^2\\right)^\\frac{1}{2}\n",
        " $$ where $\\mathcal{C} = \\{C_1, C_2, \\ldots, C_k\\}$ denotes clusters with centers $C = \\{c_j\\}_{j=1}^{k}$, $d(.)$ is euclidean distance metric , $\\phi$ is cluster assignment and $\\mathbb{I}$ is indicator function which helps in checking if datapoint $x$ belongs to $j^{th}$ cluster.<br>\n",
        " \n",
        "\n",
        "It is basically the squared sum of euclidean distance between each point and assigned center. For further details refer **Lecture Notes**\n",
        "\n",
        "##B)  **Fair $k$-means Clustering**\n",
        "Machine Learning is being studied in both supervised and unsupervised settings. The decision taken by these algorithms have societal impact on the humans. So if any such decision is biased towards a particular type of people it will lead to catastropic effects on the life of affected individuals. Many such reallife scenarios like automated resume processing of amazon, and US criminal risk prediction etc. have been found to biased towards certain groups of socities like females, or individuals belonging to certain race (black). Thus there is need of fair machine learning algorithms.<br>\n",
        "In **Supervised** setting, fairness is very well studied problem. In unsupervised setting many new algorithms are coming up to deal with fairness issues and reduce the biasness. <br>\n",
        "In **Unsupervised** settings like $k$-means clustering the fairness is being studied in two aspects namely:<br><br>\n",
        "1.**Group Fairness Notion** - deals with the fairness in terms of complete group of points in the cluster. It tries to maintain the ratio of every type of individual within each cluster. eg. If we have 100 datapoints (70 Males + 30 Females) to train upon. Then group fairness tries to capture this ratio within each formed cluster. In simple words,it tries to maintain the ratio of males:females in each cluster to be 70:30 ie 7:3 . <br> \n",
        "&nbsp;&nbsp;&nbsp;&nbsp;&nbsp;&nbsp;&nbsp;&nbsp; To achieve this each center might have to loose some of good points that are intially close to it so as to maintain the ratio. Thus there will be increase in objective cost as compared to vanilla $k$-means clustering.<br>\n",
        "&nbsp;&nbsp;&nbsp;&nbsp;&nbsp;&nbsp;In order to check whether the obtained clusters are fair or not what one can do is to calculate the value of fairness metric known as **Balance** which can be computed using the given formula:\n",
        "\n",
        "$$Balance(X,C,\\phi) = \\min_{j \\in \\mathcal{C}}\\left( \n",
        " \\min\\left( \\frac{\\sum_{x \\in X:\\phi(x)=j}\\mathbb{I}{(\\rho_i=a)}}{\\sum_{x \\in X:\\phi(x)=j}\\mathbb{I}{(\\rho_i=b)}}, \\frac{\\sum_{x \\in X:\\phi(x)=j}\\mathbb{I}{(\\rho_i=b)}}{\\sum_{x \\in X:\\phi(x)=j}\\mathbb{I}{(\\rho_i=a)}} \\right)\n",
        "\\right)$$ where $\\rho_i$ is the protected attribute of $i^{th}$ data instance and $\\rho_i$ can take value $a$ or $b$ in case of binary valued attribute.<br>\n",
        "<br>\n",
        "The formula mainly tells us that we need to find the minimum of (a/b , b/a) for each cluster then among these obtained minimas we will report the overall minimum as the balance for complete clustering set obtained.<br><br>\n",
        "**Takeaway for assignment:** *In our case a and b are two possible values of protected group like male and female.* <br>\n",
        "*In your assignment so basically you need to find the ratio of male/female or female/male for each cluster, store these in some array and then find the minimum of this array. This final minimum will be the balance. In dataset you can assume male being denoted by 1 and female being denoted by 0*<br><br>\n",
        "\n",
        "2.**Individual Fairness Notion** -  deals with the fairness with regards to each individual in the space. On similar grounds as balance, one can check the individual fairness in obtained clustering using the metric given by :\n",
        "\n",
        "$$MaxD(X,C,\\phi) = \\min_{j \\in \\mathcal{C}}\\left( \n",
        " \\min\\left( \\frac{\\max_{x \\in X:\\phi(x)=j,\\ \\rho_i=a} d(x,c_j)}{\\max_{x \\in X:\\phi(x)=j,\\ \\rho_i=b} d(x,c_j)}, \\frac{\\max_{x \\in X:\\phi(x)=j,\\ \\rho_i=b} d(x,c_j)}{\\max_{x \\in X:\\phi(x)=j,\\ \\rho_i=a} d(x,c_j)} \\right)\n",
        "\\right)$$\n",
        "<br><br>\n",
        "It basically tries to find the minimum of ( Farthest_male_point_distance /Farthest_female_point_distance ) in each cluster ans then overall metric is minima of these obtained values over k cluster. \n",
        "\n",
        "**Takeaway for assignment:**<br> *In your assignment so basically you need to find the minimum of $p=\\frac{(farthest\\ distance\\ of\\ male\\ point\\ in\\ cluster)}{(farthest\\ distance\\ of\\ female\\ point\\ in\\ cluster)}$ or $p^{-1}$  for each cluster, store these in some array and then find the minimum of these obtained k sized array. This final minimum will be the maxD.*<br><br>\n",
        "\n",
        "\n"
      ]
    },
    {
      "cell_type": "markdown",
      "metadata": {
        "id": "T246Jccm2JYk"
      },
      "source": [
        "**TASK 4: Fair $k$-means Clustering**  \n",
        "                                                     **(19 Marks)**<br><br>\n",
        "**NOTE:** This task is to be done only on **Adult** dataset.\n",
        "1. Implement the $k$-means clustering algorithm.\n",
        "2. While performing $k$-means clustering on adult dataset use only five attributes as feature set: age, fnlwgt, education_num, capital_gain, hours_per_week. \n",
        "3. Use the attribute sex as protected (sensitive) attribute for fairness.\n",
        "4. Calculate the objective cost for different k values. \n",
        "4. Calculate the fairness metrics ie. balance and MaxD for set of clusters obtained against different $k$ values. To be more precise, store the value of both metric in a array for different $k$ values. Print these value array obtained\n",
        "5. Plot the variation of objective cost, balance and maxD over different $k$ values.\n",
        "6. Comment your observation. Also tell your observation which fairness notion is more beneficial and should be focused upon? Can you think of some other notion of fairness in clustering?\n",
        "\n",
        "\n",
        "**NOTE: Take different $k$ values as 2,5,10,20 to report your obervation.**"
      ]
    },
    {
      "cell_type": "code",
      "metadata": {
        "id": "5B_mWIZo6uAx",
        "colab": {
          "base_uri": "https://localhost:8080/",
          "height": 482
        },
        "outputId": "60bca09e-1d34-426a-adc9-9c1b45ff7eec"
      },
      "source": [
        "#Implement the kmeans algorithm        10 points \n",
        "# Please insert your code here\n",
        "\n",
        "import numpy as np\n",
        "import math \n",
        "import random\n",
        "import copy\n",
        "import matplotlib.pyplot as plt\n",
        "\n",
        "\n",
        "class kmeans:\n",
        "  k = 2\n",
        "  data = np.array([])\n",
        "  outputCluster = []\n",
        "  outputMean = []\n",
        "\n",
        "  def initializeCenters(self):\n",
        "    random_indices = random.sample(range(len(self.data)), self.k)\n",
        "    centers=[]\n",
        "    for i in range(self.k):\n",
        "      centers.append(self.data[random_indices[i]])\n",
        "    return centers\n",
        "\n",
        "  def dist(self, x,y):    \n",
        "    sub = x-y    \n",
        "    ans=int(0)    \n",
        "    for i in range(len(sub)-1):      \n",
        "      ans=ans+sub[i]*sub[i]    \n",
        "      ans = math.sqrt(ans)     \n",
        "      return ans\n",
        "\n",
        "  def assign_cluster(self, cluster_means):\n",
        "    clusters={}\n",
        "    for i in range(self.k):\n",
        "      clusters[i]=[]\n",
        "\n",
        "    for pt in self.data:\n",
        "      min_dis = 100000\n",
        "      for ind in range(len(cluster_means)):\n",
        "        min_dis = min(min_dis, self.dist(pt, cluster_means[ind]))\n",
        "        if min_dis == self.dist(pt, cluster_means[ind]):\n",
        "          temp_cluster = ind\n",
        "      clusters[temp_cluster].append(pt)\n",
        "\n",
        "    return clusters\n",
        "\n",
        "  def assign_mean(self, cluster):\n",
        "    new_means = []\n",
        "    for c in cluster:\n",
        "      if len(cluster[c])!=0:\n",
        "        sumls = [0]*len(cluster[c][0])\n",
        "        for i in range(len(cluster[c])):\n",
        "          for j in range(len(cluster[c][0])):\n",
        "            sumls[j]+=cluster[c][i][j]\n",
        "          \n",
        "        for j in range(len(cluster[c][0])):\n",
        "          sumls[j]=sumls[j]/len(cluster[c])\n",
        "        new_means.append(sumls)\n",
        "    return new_means\n",
        "\n",
        "\n",
        "  def create_list_data(self):\n",
        "    map_data = {}\n",
        "    for i in len(self.data):  \n",
        "      map_data[self.data[i]]=i\n",
        "    return map_data\n",
        "\n",
        "  def calculate_sse(self):\n",
        "    total_sum = 0;\n",
        "    for i in range(self.k):\n",
        "        for j in range(len(self.outputCluster[i])):\n",
        "            diff = 0\n",
        "            for d in range(len(self.outputCluster[i][0])):\n",
        "                diff += (self.outputCluster[i][j][d] - self.outputMean[i][d])\n",
        "            total_sum += diff**2\n",
        "    \n",
        "    return total_sum\n",
        "\n",
        "\n",
        "  def calculate_balance(self):\n",
        "    balance_list = []\n",
        "    for i in range(self.k):\n",
        "      cntMale=0.01\n",
        "      cntFemale=0.01\n",
        "      for j in self.outputCluster[i]:\n",
        "          if j[-1]==1.0:\n",
        "            cntMale+=1\n",
        "          else:\n",
        "            cntFemale+=1\n",
        "      balance_list.append(cntMale/cntFemale)\n",
        "    \n",
        "    print(\"Balance list  is \", balance_list)  \n",
        "    return min(balance_list)\n",
        "\n",
        "  def calculate_fairness(self):\n",
        "    fairness = []\n",
        "    # create_list_data\n",
        "    for i in range(self.k):\n",
        "        max_female_dist=float('-inf')\n",
        "        max_male_dist=float('-inf')\n",
        "        for j in self.outputCluster[i]:\n",
        "            if j[-1]==1.0:\n",
        "              max_male_dist = max(max_male_dist, self.dist(j, self.outputMean[i]))\n",
        "            else:\n",
        "              max_female_dist = max(max_female_dist, self.dist(j, self.outputMean[i]))\n",
        "        fairness.append(max_male_dist/max_female_dist)\n",
        "    print(\"fairness matrix is \", fairness)\n",
        "    return min(fairness)\n",
        "        \n",
        "  def __init__(self, data, k):\n",
        "    self.data = data\n",
        "    self.k = k\n",
        "\n",
        "    cluster = {x:[] for x in range(k)}\n",
        "    cluster_mean = self.initializeCenters()\n",
        "    new_means = cluster_mean\n",
        "    max_iter = 10000\n",
        "    while max_iter>0:\n",
        "      max_iter-=1\n",
        "      cluster = self.assign_cluster(cluster_mean)\n",
        "      prev_mean=cluster_mean\n",
        "      new_mean = self.assign_mean(cluster)\n",
        "      # print(prev_mean)\n",
        "      # print(new_mean)\n",
        "      prevNP = np.asarray(prev_mean)\n",
        "      newNP = np.asarray(new_mean)\n",
        "      newNP = np.absolute(newNP-prevNP)\n",
        "\n",
        "      if np.sum(newNP)<=0:\n",
        "        break\n",
        "\n",
        "      cluster_mean=new_mean\n",
        "    self.outputCluster=cluster\n",
        "    self.outputMean = new_mean\n",
        "\n",
        "\n",
        "        \n",
        "\n",
        "    \n",
        "\n",
        "\n",
        "\n",
        "\n",
        "#Calculate the fairness metrics and print       5 points for calculation of all three metrics and  1 point for printing\n",
        "# Please insert your code\n",
        "\n",
        "dat = adult_data.to_numpy()\n",
        "outp = kmeans(dat, 3)\n",
        "print(\"Objective value is \",outp.calculate_sse())\n",
        "print(\"Balance value is \",outp.calculate_balance())\n",
        "print(\"Fairness value is \",outp.calculate_fairness())\n",
        "# print(outp.)\n",
        "\n",
        "\n",
        "\n",
        "## Plot the variation over different k values     3 points \n",
        "# Please insert your code\n",
        "\n",
        "k_val = [2,5,10,20]\n",
        "fairness_list =[]\n",
        "objective_list =[]\n",
        "balance_list =[]\n",
        "dat = adult_data.to_numpy()\n",
        "\n",
        "for kval in k_val:\n",
        "  outp = kmeans(dat, kval)\n",
        "  print(\"For k is \",kval)\n",
        "  objective_list.append(outp.calculate_sse())\n",
        "  balance_list.append(outp.calculate_balance())\n",
        "  fairness_list.append(outp.calculate_fairness())\n",
        "  print(\"\\n\")\n",
        "  \n",
        "\n",
        "\"\"\"\n",
        "dat = spiral_data.to_numpy()\n",
        "k_val = [2,3,5,10]\n",
        "for kvl in k_val:\n",
        "  outp = kmeans(dat, kvl)\n",
        "\"\"\""
      ],
      "execution_count": null,
      "outputs": [
        {
          "output_type": "stream",
          "name": "stdout",
          "text": [
            "Objective value is  28203.72863144526\n",
            "Balance list  is  [0.6487445366672958, 0.3864679421367051, 0.44851713869860727]\n",
            "Balance value is  0.3864679421367051\n",
            "fairness matrix is  [0.9886182027222228, 0.9993650950598898, 0.9991370466259792]\n",
            "Fairness value is  0.9886182027222228\n",
            "For k is  2\n",
            "Balance list  is  [0.5629355803110335, 0.4217043618205876]\n",
            "fairness matrix is  [0.9916038698211957, 0.9994122151932922]\n",
            "\n",
            "\n",
            "For k is  5\n",
            "Balance list  is  [0.3935112065902514, 0.47773690730244595, 0.5915055124566516, 0.6917734671098998, 0.37588634223054657]\n",
            "fairness matrix is  [0.9975283923042341, 0.9987307041195153, 0.9988935842184447, 0.9799799473904429, 0.9964742343663493]\n",
            "\n",
            "\n",
            "For k is  10\n",
            "Balance list  is  [0.6812264998669686, 0.7136106052091726, 0.479150829058084, 0.39216745497956707, 0.5240638600536222, 0.4412160083606895, 0.352050012452459, 0.398864278177416, 0.394649980246473, 0.6861830125569842]\n",
            "fairness matrix is  [0.997982678941079, 0.9606566848271704, 0.9999723800691697, 0.9944456850202971, 0.9975118117546965, 0.9915925372590966, 1.0017324809400994, 0.9939761267191731, 0.99309743869511, 1.000416502221622]\n",
            "\n",
            "\n",
            "For k is  20\n",
            "Balance list  is  [0.3732693292592946, 0.6817714721384294, 0.34125847354142874, 0.6767723409474611, 0.41456879059426605, 0.3696696669421713, 0.7226545045530886, 0.6450653799858026, 0.7622105922442437, 0.6453951007787123, 0.5285621629993901, 0.41971658148445506, 0.5435268873796824, 0.3787372269684853, 0.43110796153581166, 0.42785041442774163, 0.4852592916953378, 0.4229945680348006, 0.4110244897655267, 0.6946670487445776]\n",
            "fairness matrix is  [0.9994065920772511, 0.992511818693633, 0.9955229670152814, 1.0007957471457818, 0.9985259507717221, 0.8319861924622568, 0.9209733259621371, 1.0019551817294918, 0.9837558422019064, 0.9954477741233856, 1.002476122329846, 0.9996406588419879, 0.9955956631219475, 0.9978873708883721, 0.9990759077104245, 0.997656994983673, 1.0000691927392906, 0.9976715755906231, 1.0003333552344786, 0.9985023473138698]\n",
            "\n",
            "\n"
          ]
        },
        {
          "output_type": "execute_result",
          "data": {
            "application/vnd.google.colaboratory.intrinsic+json": {
              "type": "string"
            },
            "text/plain": [
              "'\\ndat = spiral_data.to_numpy()\\nk_val = [2,3,5,10]\\nfor kvl in k_val:\\n  outp = kmeans(dat, kvl)\\n'"
            ]
          },
          "metadata": {},
          "execution_count": 13
        }
      ]
    },
    {
      "cell_type": "code",
      "metadata": {
        "colab": {
          "base_uri": "https://localhost:8080/",
          "height": 295
        },
        "id": "YVjNXKmnoAlh",
        "outputId": "9bdcac3f-be77-409e-b6ad-0a24575dfb10"
      },
      "source": [
        "plt.plot(k_val, fairness_list, label=\"fairness\")\n",
        "plt.xlabel(\"K value\")\n",
        "plt.ylabel(\"Fairnes Value\")\n",
        "plt.title(\"Fairness comparision with different k\")\n",
        "plt.show()"
      ],
      "execution_count": null,
      "outputs": [
        {
          "output_type": "display_data",
          "data": {
            "image/png": "[encoded data removed]",
            "text/plain": [
              "<Figure size 432x288 with 1 Axes>"
            ]
          },
          "metadata": {
            "needs_background": "light"
          }
        }
      ]
    },
    {
      "cell_type": "code",
      "metadata": {
        "colab": {
          "base_uri": "https://localhost:8080/",
          "height": 295
        },
        "id": "ZF-wG-v9oCQG",
        "outputId": "a32ebe13-749b-4955-a2cb-ea348849a51f"
      },
      "source": [
        "plt.plot(k_val, balance_list)\n",
        "plt.xlabel(\"K value\")\n",
        "plt.ylabel(\"Balance Value\")\n",
        "plt.title(\"Balance value comparision with different k\")\n",
        "plt.show()"
      ],
      "execution_count": null,
      "outputs": [
        {
          "output_type": "display_data",
          "data": {
            "image/png": "[encoded data removed]",
            "text/plain": [
              "<Figure size 432x288 with 1 Axes>"
            ]
          },
          "metadata": {
            "needs_background": "light"
          }
        }
      ]
    },
    {
      "cell_type": "code",
      "metadata": {
        "colab": {
          "base_uri": "https://localhost:8080/",
          "height": 295
        },
        "id": "vxbFuh7eYh4l",
        "outputId": "01aa5d0a-7f3b-4d8e-c660-be10153753f1"
      },
      "source": [
        "plt.plot(k_val, objective_list)\n",
        "plt.xlabel(\"K value\")\n",
        "plt.ylabel(\"Objective Value\")\n",
        "plt.title(\"Objective valu comparision with different k\")\n",
        "plt.show()"
      ],
      "execution_count": null,
      "outputs": [
        {
          "output_type": "display_data",
          "data": {
            "image/png": "[encoded data removed]",
            "text/plain": [
              "<Figure size 432x288 with 1 Axes>"
            ]
          },
          "metadata": {
            "needs_background": "light"
          }
        }
      ]
    },
    {
      "cell_type": "markdown",
      "metadata": {
        "id": "FJm9CDpO6uZx"
      },
      "source": [
        "### Comments on Task 4          \n",
        "##### **( Marks)**\n",
        "\n",
        "---\n",
        "\n",
        "Observations of Kmeans on Adult Dataset and in general\n",
        "\n",
        "* As the K increases Objective value or squared sum decreases. First big steps and then smoth out to a specific value.\n",
        "* Balance value also decrease as k increases but in much more gradual manner.\n",
        "* Fairness or MaxD also decreases as we K increases but it is much more in linear manner.\n",
        "* Balance looks better parameter than MaxD as balance considers mulitple points in cluster and so isnt affected by outlier if any. whereas MaxD is prone to outlier for error."
      ]
    },
    {
      "cell_type": "markdown",
      "metadata": {
        "id": "ovjczJyc7eMM"
      },
      "source": [
        "---\n",
        "**End of Task 4**\n",
        "\n",
        "\n",
        "---\n",
        "\n"
      ]
    },
    {
      "cell_type": "markdown",
      "metadata": {
        "id": "cAMpsMZz6zKd"
      },
      "source": [
        "**TASK 5: Observation**\n",
        "**(0.5 + 0.5 =1 Marks)**   \n",
        " \n",
        "#### Which out of $k$-means and DBSCAN algorithm do you think is best suited for the given datasets ?\n",
        "\n",
        "\n",
        "\n",
        "Spiral Dataset:\n",
        "For Spiral Dataset, DBScan works better as in spiral dataset is consists of classes based on densities and are not gausian. Kmeans will work poorly on spiral dataset.\n",
        "\n",
        "Adult Dataset:\n",
        "In adult dataset, with having multiple features and kmeans seems to work much better and faster. As adult dataset has more point than spiral dataset, even then the time performance of kmeans of adult dataset was very fast then DBscan algorithm. As Kmeans uses connected neighbour methodology it is better for adult dataset.\n"
      ]
    },
    {
      "cell_type": "markdown",
      "metadata": {
        "id": "dDJZ89en6zjq"
      },
      "source": [
        "---\n",
        "**End of Task 5**\n",
        "\n",
        "\n",
        "---\n",
        "\n"
      ]
    }
  ]
}